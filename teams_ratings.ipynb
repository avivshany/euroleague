{
 "cells": [
  {
   "cell_type": "code",
   "execution_count": null,
   "metadata": {},
   "outputs": [],
   "source": [
    "import euroleague as e\n",
    "import numpy as np\n",
    "import matplotlib.pyplot as plt"
   ]
  },
  {
   "cell_type": "markdown",
   "metadata": {},
   "source": [
    "# Get data"
   ]
  },
  {
   "cell_type": "code",
   "execution_count": null,
   "metadata": {},
   "outputs": [],
   "source": [
    "seasons_rounds = {2018: 30, 2019: 16}\n",
    "games_scores = e.get_data(df_name='games_scores', seasons_rounds=seasons_rounds)\n",
    "teams_stats = e.get_data(df_name='teams_stats', seasons_rounds=seasons_rounds)"
   ]
  },
  {
   "cell_type": "markdown",
   "metadata": {},
   "source": [
    "# Plot teams rating"
   ]
  },
  {
   "cell_type": "code",
   "execution_count": null,
   "metadata": {},
   "outputs": [],
   "source": [
    "teams_stats['isMTA'] = teams_stats['team'] == 'MTA'\n",
    "teams_stats_2019 = teams_stats.loc[teams_stats['season'] == 2019]"
   ]
  },
  {
   "cell_type": "code",
   "execution_count": null,
   "metadata": {},
   "outputs": [],
   "source": [
    "title_suffix = '\\n(Teams above the line have a positive Net Rating)'\n",
    "xlabel_suffix = '\\n\\n<-- Better defense\\t\\t\\t\\tWorse defense -->'.replace('\\t', '    ')\n",
    "ylabel_prefix = '<-- Worse offense\\t\\t\\t\\tBetter offense -->\\n\\n'.replace('\\t', '    ')\n",
    "\n",
    "fig, ax = e.plot_bivariate(\n",
    "    df=teams_stats_2019, x='DRtg', y='ORtg', hue='isMTA', xyline=True, show_season=False,\n",
    "    suptitle='Offensive vs Defensive Rating in 2019/20 season' + title_suffix\n",
    ");\n",
    "ax.set_xlabel(ax.get_xlabel() + xlabel_suffix); \n",
    "ax.set_ylabel(ylabel_prefix + ax.get_ylabel());"
   ]
  },
  {
   "cell_type": "code",
   "execution_count": null,
   "metadata": {},
   "outputs": [],
   "source": [
    "fig, ax = e.plot_bivariate(\n",
    "    df=teams_stats, x='DRtg', y='ORtg', hue='isMTA', xyline=True, annotate_only_hue_true=True,\n",
    "    suptitle='Offensive vs Defensive Rating in seasons 2018/19 - 2019/20' + title_suffix\n",
    ");\n",
    "ax.set_xlabel(ax.get_xlabel() + xlabel_suffix); \n",
    "ax.set_ylabel(ylabel_prefix + ax.get_ylabel());"
   ]
  },
  {
   "cell_type": "code",
   "execution_count": null,
   "metadata": {},
   "outputs": [],
   "source": [
    "fig, (ax0, ax1) = plt.subplots(1, 2, figsize=(14, 10), gridspec_kw={'width_ratios': [2, 1]})\n",
    "\n",
    "e.sorted_barplot(df=teams_stats_2019, metric='NETRtg', ax=ax0, show_season=False);\n",
    "ax0.set_title('2019/20 ' + ax0.get_title(), fontsize=16);\n",
    "\n",
    "e.plot_parallel_pairs(df=teams_stats, metric='NETRtg', ax=ax1)\n",
    "ax1.set_title('Net rating by season', fontsize=16);\n"
   ]
  },
  {
   "cell_type": "markdown",
   "metadata": {},
   "source": [
    "# Pace effects"
   ]
  },
  {
   "cell_type": "code",
   "execution_count": null,
   "metadata": {},
   "outputs": [],
   "source": [
    "e.plot_bivariate(\n",
    "    df=teams_stats_2019, x='PACE', y='NETRtg', hue='isMTA', fit_reg=True, show_season=False,\n",
    "    suptitle='Net Rating by Pace in season 2019/20'\n",
    ");"
   ]
  },
  {
   "cell_type": "code",
   "execution_count": null,
   "metadata": {},
   "outputs": [],
   "source": [
    "fig, ax = e.plot_bivariate(\n",
    "    df=teams_stats, x='PACE', y='NETRtg', hue='isMTA', fit_reg=True,\n",
    "    annotate_only_hue_true=True, suptitle='Net Rating by Pace in seasons 2018/19-2019/20'\n",
    ");\n",
    "ax.legend(loc='lower left');"
   ]
  },
  {
   "cell_type": "code",
   "execution_count": null,
   "metadata": {},
   "outputs": [],
   "source": []
  }
 ],
 "metadata": {
  "kernelspec": {
   "display_name": "Python 3",
   "language": "python",
   "name": "python3"
  },
  "language_info": {
   "codemirror_mode": {
    "name": "ipython",
    "version": 3
   },
   "file_extension": ".py",
   "mimetype": "text/x-python",
   "name": "python",
   "nbconvert_exporter": "python",
   "pygments_lexer": "ipython3",
   "version": "3.7.3"
  }
 },
 "nbformat": 4,
 "nbformat_minor": 2
}
